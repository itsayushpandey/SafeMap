{
 "cells": [
  {
   "cell_type": "code",
   "execution_count": 9,
   "id": "37a35c59-b887-4e67-b423-6da20b41c358",
   "metadata": {},
   "outputs": [
    {
     "name": "stdout",
     "output_type": "stream",
     "text": [
      "Requirement already satisfied: beautifulsoup4 in /opt/conda/lib/python3.10/site-packages (4.11.1)\n",
      "Requirement already satisfied: soupsieve>1.2 in /opt/conda/lib/python3.10/site-packages (from beautifulsoup4) (2.3.2.post1)\n",
      "Note: you may need to restart the kernel to use updated packages.\n"
     ]
    }
   ],
   "source": [
    "pip install beautifulsoup4"
   ]
  },
  {
   "cell_type": "code",
   "execution_count": 10,
   "id": "a585daf0-9507-4478-86d6-f12c4399e7be",
   "metadata": {},
   "outputs": [],
   "source": [
    "import requests\n",
    "import xml.etree.ElementTree as ET\n",
    "from datetime import datetime\n",
    "from bs4 import BeautifulSoup"
   ]
  },
  {
   "cell_type": "code",
   "execution_count": 37,
   "id": "b678d24c-2bb4-48b7-af9c-f1d327904884",
   "metadata": {},
   "outputs": [],
   "source": [
    "def get_article_content(url):\n",
    "    try:\n",
    "        response = requests.get(url)\n",
    "        \n",
    "        if response.status_code == 200:\n",
    "            soup = BeautifulSoup(response.content, 'html.parser')\n",
    "            article_content = soup.find('article')\n",
    "            if article_content:\n",
    "                return article_content.text.strip()\n",
    "            else:\n",
    "                return \"No content found\"\n",
    "        \n",
    "        else:\n",
    "            print(\"Failed to fetch article content. Status code: \", response.status_code)\n",
    "            return None\n",
    "    \n",
    "    except Exception as e:\n",
    "        print(\"An error occurred whiile fetching NEWS article: \", str(e))\n",
    "        return None"
   ]
  },
  {
   "cell_type": "code",
   "execution_count": 67,
   "id": "7cbe3bbb-7c5b-4310-a782-6d5fce5b9d89",
   "metadata": {},
   "outputs": [],
   "source": [
    "def get_yahoo_news():\n",
    "    url = \"https://news.yahoo.com/rss/\"\n",
    "    \n",
    "    try:\n",
    "        response = requests.get(url)\n",
    "        \n",
    "        if response.status_code == 200:\n",
    "            root = ET.fromstring(response.content)\n",
    "            \n",
    "            today = datetime.now().strftime('%Y-%m-%d')\n",
    "            \n",
    "            news_data = []\n",
    "            for item in root.findall('.//item'):\n",
    "                title = item.find('title').text\n",
    "                link = item.find('link').text\n",
    "                pub_date = item.find('pubDate').text\n",
    "                \n",
    "                if pub_date.startswith(today):\n",
    "                    article_content = get_article_content(link)\n",
    "                    # print(article_content)\n",
    "                    news_data.append({\n",
    "                        'pub_date': pub_date,\n",
    "                        'link': link,\n",
    "                        'title': title,\n",
    "                        'body': article_content\n",
    "                    })\n",
    "            \n",
    "            return news_data\n",
    "        else:\n",
    "            print(\"Falied to fetch data from Yahoo! News. Status Code: \", response.status_code)\n",
    "            return None\n",
    "    \n",
    "    except Exception as e:\n",
    "        print(\"An error occurred: \", str(e))\n",
    "        return None"
   ]
  },
  {
   "cell_type": "code",
   "execution_count": 76,
   "id": "a2797a96-b5aa-4a16-a537-3edc6556fde0",
   "metadata": {
    "tags": []
   },
   "outputs": [],
   "source": [
    "news = get_yahoo_news()"
   ]
  },
  {
   "cell_type": "code",
   "execution_count": 116,
   "id": "c5613bc5-7c5e-4bf1-839e-56fcdc47cc89",
   "metadata": {},
   "outputs": [
    {
     "data": {
      "text/plain": [
       "[{'pub_date': '2024-04-14T01:44:47Z',\n",
       "  'link': 'https://www.yahoo.com/news/man-punches-9-old-girl-014447931.html',\n",
       "  'title': 'Man punches 9-year-old girl in the face at Grand Central Terminal: NYPD',\n",
       "  'body': 'WPIX New York City, NYMan punches 9-year-old girl in the face at Grand Central Terminal: NYPDMatthew EuzarragaApril 13, 2024 at 6:44 PM·1 min read250Link CopiedRead full articleMan punches 9-year-old girl in the face at Grand Central Terminal: NYPDNEW YORK (PIX11) – Police are looking for a man who punched a 9-year-old girl at Grand Central Terminal on Saturday morning, according to police.\\xa0\\xa0The young victim was standing near her mother near the dining concourse when the assailant approached and punched the child in the face in an unprovoked attack. The 9-year-old girl suffered dizziness and pain and was transported to NYU Langone Tisch Hospital for treatment, authorities said. NYC teacher’s aide arrested again, sent illicit texts to students: NYPD According to officials, the suspect is known to the Metropolitan Transportation Authority Police Department.\\xa0\\xa0Police are now searching for Jean Carlos Zarzuela a 30-year-old male. Zarzuela is 5 feet 7 inches and weighs about 150 lbs. He was last seen fleeing Grand Central Terminal to parts unknown, police said.\\xa0\\xa0\\xa0Submit tips to police by calling Crime Stoppers at 1-800-577-TIPS (8477), visiting crimestoppers.nypdonline.org, downloading the NYPD Crime Stoppers mobile app, or texting 274637 (CRIMES) then entering TIP577. Spanish-speaking callers are asked to dial 1-888-57-PISTA (74782).Matthew Euzarraga is a multimedia journalist from El Paso, Texas. He has covered local news and LGBTQIA topics in the New York City Metro area since 2021. He joined the PIX11 Digital team in 2023. You can see more of his work here. For the latest news, weather, sports, and streaming video, head to PIX11.  View comments'},\n",
       " {'pub_date': '2024-04-14T03:17:07Z',\n",
       "  'link': 'https://www.yahoo.com/news/massive-failure-israeli-american-deterrence-031707163.html',\n",
       "  'title': '‘Massive failure of Israeli and American deterrence’: John Bolton on Iranian strikes',\n",
       "  'body': 'CNN‘Massive failure of Israeli and American deterrence’: John Bolton on Iranian strikesCNNApril 13, 2024 at 9:17 PM103Link CopiedRead full articleOops!Something went wrong.Please try again later.More content belowOops!Something went wrong.Please try again later.More content belowJohn Bolton, National Security Adviser under President Donald Trump, joins CNN’s Wolf Blitzer to discuss Israel’s response to Iranian strikes. View comments'}]"
      ]
     },
     "execution_count": 116,
     "metadata": {},
     "output_type": "execute_result"
    }
   ],
   "source": [
    "news"
   ]
  },
  {
   "cell_type": "code",
   "execution_count": 84,
   "id": "938bcf02-4183-4726-a401-a3764f29634d",
   "metadata": {},
   "outputs": [],
   "source": [
    "import json\n",
    "import pandas as pd"
   ]
  },
  {
   "cell_type": "code",
   "execution_count": 90,
   "id": "0ac290fd-38a6-472e-a34d-6b277b53dd29",
   "metadata": {},
   "outputs": [],
   "source": [
    "json_crime_data = json.dumps(news)\n",
    "json_crime_data = json.loads(json_crime_data)"
   ]
  },
  {
   "cell_type": "code",
   "execution_count": 94,
   "id": "b501607d-04a4-490e-9e54-852adbe39998",
   "metadata": {},
   "outputs": [],
   "source": [
    "df = pd.DataFrame(json_crime_data)\n",
    "df.to_csv(\"News_Data.csv\", mode=\"a\", header=False, index=False)"
   ]
  },
  {
   "cell_type": "code",
   "execution_count": null,
   "id": "6edc9087-61b7-4389-9b9e-c93cb15ec90c",
   "metadata": {},
   "outputs": [],
   "source": []
  },
  {
   "cell_type": "markdown",
   "id": "7a4c7b67-6190-4c6b-89c6-81debd53d067",
   "metadata": {},
   "source": [
    "## Load Model"
   ]
  },
  {
   "cell_type": "code",
   "execution_count": 130,
   "id": "d5e11862-095d-45b5-b1af-3f375d2e3f16",
   "metadata": {},
   "outputs": [],
   "source": [
    "import pickle"
   ]
  },
  {
   "cell_type": "code",
   "execution_count": 133,
   "id": "32b568b4-9d29-431d-b3d9-793a48f3ba1d",
   "metadata": {},
   "outputs": [],
   "source": [
    "# Load Model\n",
    "with open(\"VotingClassifierModel.pkl\", \"rb\") as fid:\n",
    "  model = pickle.load(fid)"
   ]
  },
  {
   "cell_type": "code",
   "execution_count": 134,
   "id": "e8af6d78-b985-4568-a67d-8130c2585f0e",
   "metadata": {},
   "outputs": [],
   "source": [
    "data = pd.read_csv(\"News_Data.csv\")"
   ]
  },
  {
   "cell_type": "code",
   "execution_count": 135,
   "id": "57a3a063-c7a3-423a-a362-7a2097b25b02",
   "metadata": {},
   "outputs": [
    {
     "data": {
      "text/html": [
       "<div>\n",
       "<style scoped>\n",
       "    .dataframe tbody tr th:only-of-type {\n",
       "        vertical-align: middle;\n",
       "    }\n",
       "\n",
       "    .dataframe tbody tr th {\n",
       "        vertical-align: top;\n",
       "    }\n",
       "\n",
       "    .dataframe thead th {\n",
       "        text-align: right;\n",
       "    }\n",
       "</style>\n",
       "<table border=\"1\" class=\"dataframe\">\n",
       "  <thead>\n",
       "    <tr style=\"text-align: right;\">\n",
       "      <th></th>\n",
       "      <th>pub_date</th>\n",
       "      <th>link</th>\n",
       "      <th>title</th>\n",
       "      <th>body</th>\n",
       "    </tr>\n",
       "  </thead>\n",
       "  <tbody>\n",
       "    <tr>\n",
       "      <th>0</th>\n",
       "      <td>2024-04-14T01:44:47Z</td>\n",
       "      <td>https://www.yahoo.com/news/man-punches-9-old-g...</td>\n",
       "      <td>Man punches 9-year-old girl in the face at Gra...</td>\n",
       "      <td>WPIX New York City, NYMan punches 9-year-old g...</td>\n",
       "    </tr>\n",
       "    <tr>\n",
       "      <th>1</th>\n",
       "      <td>2024-04-14T03:17:07Z</td>\n",
       "      <td>https://www.yahoo.com/news/massive-failure-isr...</td>\n",
       "      <td>‘Massive failure of Israeli and American deter...</td>\n",
       "      <td>CNN‘Massive failure of Israeli and American de...</td>\n",
       "    </tr>\n",
       "    <tr>\n",
       "      <th>2</th>\n",
       "      <td>2024-04-14T01:44:47Z</td>\n",
       "      <td>https://www.yahoo.com/news/man-punches-9-old-g...</td>\n",
       "      <td>Man punches 9-year-old girl in the face at Gra...</td>\n",
       "      <td>WPIX New York City, NYMan punches 9-year-old g...</td>\n",
       "    </tr>\n",
       "    <tr>\n",
       "      <th>3</th>\n",
       "      <td>2024-04-14T03:17:07Z</td>\n",
       "      <td>https://www.yahoo.com/news/massive-failure-isr...</td>\n",
       "      <td>‘Massive failure of Israeli and American deter...</td>\n",
       "      <td>CNN‘Massive failure of Israeli and American de...</td>\n",
       "    </tr>\n",
       "  </tbody>\n",
       "</table>\n",
       "</div>"
      ],
      "text/plain": [
       "               pub_date                                               link  \\\n",
       "0  2024-04-14T01:44:47Z  https://www.yahoo.com/news/man-punches-9-old-g...   \n",
       "1  2024-04-14T03:17:07Z  https://www.yahoo.com/news/massive-failure-isr...   \n",
       "2  2024-04-14T01:44:47Z  https://www.yahoo.com/news/man-punches-9-old-g...   \n",
       "3  2024-04-14T03:17:07Z  https://www.yahoo.com/news/massive-failure-isr...   \n",
       "\n",
       "                                               title  \\\n",
       "0  Man punches 9-year-old girl in the face at Gra...   \n",
       "1  ‘Massive failure of Israeli and American deter...   \n",
       "2  Man punches 9-year-old girl in the face at Gra...   \n",
       "3  ‘Massive failure of Israeli and American deter...   \n",
       "\n",
       "                                                body  \n",
       "0  WPIX New York City, NYMan punches 9-year-old g...  \n",
       "1  CNN‘Massive failure of Israeli and American de...  \n",
       "2  WPIX New York City, NYMan punches 9-year-old g...  \n",
       "3  CNN‘Massive failure of Israeli and American de...  "
      ]
     },
     "execution_count": 135,
     "metadata": {},
     "output_type": "execute_result"
    }
   ],
   "source": [
    "data.head()"
   ]
  },
  {
   "cell_type": "code",
   "execution_count": 162,
   "id": "945884e1-b49f-477f-98c8-8f24944bf2bf",
   "metadata": {},
   "outputs": [],
   "source": [
    "import re\n",
    "import nltk\n",
    "from nltk.corpus import stopwords\n",
    "from sklearn.feature_extraction.text import TfidfVectorizer\n",
    "from sklearn.model_selection import train_test_split\n",
    "from sklearn.metrics import accuracy_score, classification_report\n",
    "import spacy\n",
    "from geopy.geocoders import Nominatim\n",
    "from tqdm import tqdm\n",
    "tqdm.pandas()"
   ]
  },
  {
   "cell_type": "code",
   "execution_count": 163,
   "id": "88176c57-55c7-4a19-a6c5-ada3b9a95fae",
   "metadata": {},
   "outputs": [
    {
     "name": "stderr",
     "output_type": "stream",
     "text": [
      "[nltk_data] Downloading package punkt to /home/jovyan/nltk_data...\n",
      "[nltk_data]   Package punkt is already up-to-date!\n",
      "[nltk_data] Downloading package stopwords to /home/jovyan/nltk_data...\n",
      "[nltk_data]   Package stopwords is already up-to-date!\n"
     ]
    },
    {
     "data": {
      "text/plain": [
       "True"
      ]
     },
     "execution_count": 163,
     "metadata": {},
     "output_type": "execute_result"
    }
   ],
   "source": [
    "nltk.download('punkt')\n",
    "nltk.download('stopwords')"
   ]
  },
  {
   "cell_type": "code",
   "execution_count": 164,
   "id": "880cec6f-630f-4e72-b8e3-9a088ce8e8b9",
   "metadata": {},
   "outputs": [],
   "source": [
    "nlp = spacy.load('en_core_web_sm')\n",
    "\n",
    "def perform_ner(text):\n",
    "  doc = nlp(text)\n",
    "  entities = [(ent.text, ent.label_) for ent in doc.ents]\n",
    "  return entities"
   ]
  },
  {
   "cell_type": "code",
   "execution_count": 165,
   "id": "d9b9c810-24a5-4b4f-8463-5837f54016df",
   "metadata": {},
   "outputs": [],
   "source": [
    "geolocator = Nominatim(user_agent=\"crime_geocoder\")\n",
    "\n",
    "def geocode_locations(location_names):\n",
    "  coordinates = []\n",
    "  for location_name in location_names:\n",
    "    try:\n",
    "      location = geolocator.geocode(location_name)\n",
    "      if location:\n",
    "        coordinates.append((location.latitude, location.longitude))\n",
    "    except Exception as e:\n",
    "      print(f\"Error geocoding {location_name}: {e}\")\n",
    "\n",
    "  return coordinates"
   ]
  },
  {
   "cell_type": "code",
   "execution_count": 166,
   "id": "e31b907c-63d1-447d-849b-542fff6b3980",
   "metadata": {},
   "outputs": [],
   "source": [
    "def clean_text(text):\n",
    "  text = re.sub(r'[^a-zA-Z\\s]', '', text)\n",
    "  text = text.lower()\n",
    "  stop_words = set(stopwords.words('english'))\n",
    "  words = nltk.word_tokenize(text)\n",
    "  filtered_words = [word for word in words if word not in stop_words]\n",
    "  clean_text = ' '.join(filtered_words)\n",
    "  return clean_text\n",
    "\n",
    "def get_entities(clean_text):\n",
    "  entities = perform_ner(clean_text)\n",
    "  return entities\n",
    "\n",
    "def get_coordinates(entities):\n",
    "  location_entities = [entity for entity in entities if (entity[1] == \"GPE\" or entity[1] == \"LOC\")]\n",
    "  coordinates = geocode_locations(location_entities)\n",
    "  return coordinates\n",
    "\n",
    "def process_test_data(data):\n",
    "  data['combined_text'] = data['title'].astype(str).apply(clean_text) + ' ' + data['body'].astype(str).apply(clean_text)\n",
    "\n",
    "  vectorizer = TfidfVectorizer(vocabulary=pickle.load(open(\"tfidf_vocab.pkl\", \"rb\")))\n",
    "  X = vectorizer.fit_transform(data['combined_text'])\n",
    "  data['prediction'] = model.predict(X)\n",
    "  data = data[data['prediction'] != 0]\n",
    "\n",
    "  data['entities'] = data['combined_text'].apply(get_entities)\n",
    "  data['coordinates'] = data['entities'].progress_apply(get_coordinates)\n",
    "\n",
    "  return data"
   ]
  },
  {
   "cell_type": "code",
   "execution_count": 167,
   "id": "2fd9f111-f0e5-49a2-8eab-54cce7495ffb",
   "metadata": {},
   "outputs": [
    {
     "name": "stderr",
     "output_type": "stream",
     "text": [
      "/tmp/ipykernel_134/730009393.py:27: SettingWithCopyWarning: \n",
      "A value is trying to be set on a copy of a slice from a DataFrame.\n",
      "Try using .loc[row_indexer,col_indexer] = value instead\n",
      "\n",
      "See the caveats in the documentation: https://pandas.pydata.org/pandas-docs/stable/user_guide/indexing.html#returning-a-view-versus-a-copy\n",
      "  data['entities'] = data['combined_text'].apply(get_entities)\n",
      "100%|██████████| 2/2 [00:04<00:00,  2.02s/it]\n",
      "/tmp/ipykernel_134/730009393.py:28: SettingWithCopyWarning: \n",
      "A value is trying to be set on a copy of a slice from a DataFrame.\n",
      "Try using .loc[row_indexer,col_indexer] = value instead\n",
      "\n",
      "See the caveats in the documentation: https://pandas.pydata.org/pandas-docs/stable/user_guide/indexing.html#returning-a-view-versus-a-copy\n",
      "  data['coordinates'] = data['entities'].progress_apply(get_coordinates)\n"
     ]
    }
   ],
   "source": [
    "data = process_test_data(data)"
   ]
  },
  {
   "cell_type": "code",
   "execution_count": 168,
   "id": "fdb2f2ae-4a32-4527-ba8d-5d40d57a25ca",
   "metadata": {},
   "outputs": [
    {
     "data": {
      "text/html": [
       "<div>\n",
       "<style scoped>\n",
       "    .dataframe tbody tr th:only-of-type {\n",
       "        vertical-align: middle;\n",
       "    }\n",
       "\n",
       "    .dataframe tbody tr th {\n",
       "        vertical-align: top;\n",
       "    }\n",
       "\n",
       "    .dataframe thead th {\n",
       "        text-align: right;\n",
       "    }\n",
       "</style>\n",
       "<table border=\"1\" class=\"dataframe\">\n",
       "  <thead>\n",
       "    <tr style=\"text-align: right;\">\n",
       "      <th></th>\n",
       "      <th>pub_date</th>\n",
       "      <th>link</th>\n",
       "      <th>title</th>\n",
       "      <th>body</th>\n",
       "      <th>combined_text</th>\n",
       "      <th>prediction</th>\n",
       "      <th>entities</th>\n",
       "      <th>coordinates</th>\n",
       "    </tr>\n",
       "  </thead>\n",
       "  <tbody>\n",
       "    <tr>\n",
       "      <th>0</th>\n",
       "      <td>2024-04-14T01:44:47Z</td>\n",
       "      <td>https://www.yahoo.com/news/man-punches-9-old-g...</td>\n",
       "      <td>Man punches 9-year-old girl in the face at Gra...</td>\n",
       "      <td>WPIX New York City, NYMan punches 9-year-old g...</td>\n",
       "      <td>man punches yearold girl face grand central te...</td>\n",
       "      <td>1</td>\n",
       "      <td>[(new york city, GPE), (nypdnew york, GPE), (s...</td>\n",
       "      <td>[(45.8419437, 1.2475966948424153)]</td>\n",
       "    </tr>\n",
       "    <tr>\n",
       "      <th>2</th>\n",
       "      <td>2024-04-14T01:44:47Z</td>\n",
       "      <td>https://www.yahoo.com/news/man-punches-9-old-g...</td>\n",
       "      <td>Man punches 9-year-old girl in the face at Gra...</td>\n",
       "      <td>WPIX New York City, NYMan punches 9-year-old g...</td>\n",
       "      <td>man punches yearold girl face grand central te...</td>\n",
       "      <td>1</td>\n",
       "      <td>[(new york city, GPE), (nypdnew york, GPE), (s...</td>\n",
       "      <td>[(45.8419437, 1.2475966948424153)]</td>\n",
       "    </tr>\n",
       "  </tbody>\n",
       "</table>\n",
       "</div>"
      ],
      "text/plain": [
       "               pub_date                                               link  \\\n",
       "0  2024-04-14T01:44:47Z  https://www.yahoo.com/news/man-punches-9-old-g...   \n",
       "2  2024-04-14T01:44:47Z  https://www.yahoo.com/news/man-punches-9-old-g...   \n",
       "\n",
       "                                               title  \\\n",
       "0  Man punches 9-year-old girl in the face at Gra...   \n",
       "2  Man punches 9-year-old girl in the face at Gra...   \n",
       "\n",
       "                                                body  \\\n",
       "0  WPIX New York City, NYMan punches 9-year-old g...   \n",
       "2  WPIX New York City, NYMan punches 9-year-old g...   \n",
       "\n",
       "                                       combined_text  prediction  \\\n",
       "0  man punches yearold girl face grand central te...           1   \n",
       "2  man punches yearold girl face grand central te...           1   \n",
       "\n",
       "                                            entities  \\\n",
       "0  [(new york city, GPE), (nypdnew york, GPE), (s...   \n",
       "2  [(new york city, GPE), (nypdnew york, GPE), (s...   \n",
       "\n",
       "                          coordinates  \n",
       "0  [(45.8419437, 1.2475966948424153)]  \n",
       "2  [(45.8419437, 1.2475966948424153)]  "
      ]
     },
     "execution_count": 168,
     "metadata": {},
     "output_type": "execute_result"
    }
   ],
   "source": [
    "data.head()"
   ]
  },
  {
   "cell_type": "code",
   "execution_count": null,
   "id": "256ec95f-45f2-4e54-849b-f0a960bb660d",
   "metadata": {},
   "outputs": [],
   "source": []
  }
 ],
 "metadata": {
  "kernelspec": {
   "display_name": "Python 3 (ipykernel)",
   "language": "python",
   "name": "python3"
  },
  "language_info": {
   "codemirror_mode": {
    "name": "ipython",
    "version": 3
   },
   "file_extension": ".py",
   "mimetype": "text/x-python",
   "name": "python",
   "nbconvert_exporter": "python",
   "pygments_lexer": "ipython3",
   "version": "3.10.8"
  }
 },
 "nbformat": 4,
 "nbformat_minor": 5
}
